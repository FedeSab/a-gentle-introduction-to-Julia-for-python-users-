{
 "cells": [
  {
   "cell_type": "markdown",
   "metadata": {},
   "source": [
    "### Kaggle Credit Risk:\n",
    "###                      Python implementation"
   ]
  },
  {
   "cell_type": "code",
   "execution_count": 1,
   "metadata": {},
   "outputs": [
    {
     "name": "stdout",
     "output_type": "stream",
     "text": [
      "roc_auc in train:  0.797306547707125\n",
      "roc_auc in test:  0.7592124564214238\n",
      "Time elepsed:  22\n"
     ]
    }
   ],
   "source": [
    "from time import perf_counter\n",
    "time_start = perf_counter()\n",
    "\n",
    "import pandas as pd\n",
    "import numpy as np\n",
    "from sklearn.metrics import roc_auc_score\n",
    "\n",
    "train_path = \"../application_train.csv\" #or the path to file\n",
    "test_path = \"../application_test.csv\" #or the path to file\n",
    "\n",
    "#Reading the files\n",
    "train_df = pd.read_csv(train_path) \n",
    "\n",
    "target_train = train_df[[\"TARGET\"]]\n",
    "train_df.drop(columns=[\"TARGET\"], inplace=True)\n",
    "\n",
    "test_df = pd.read_csv(test_path)\n",
    "\n",
    "target_test = test_df[[\"TARGET\"]]\n",
    "test_df.drop(columns=[\"TARGET\"], inplace=True)\n",
    "\n",
    "\n",
    "from pipeline import Full_Pipeline #Loading pipeline\n",
    "\n",
    "Full_Pipeline.fit(train_df, target_train.values.ravel())\n",
    "\n",
    "train_results = Full_Pipeline.predict_proba(train_df)[:,1]\n",
    "test_results = Full_Pipeline.predict_proba(test_df)[:,1]\n",
    "\n",
    "\n",
    "\n",
    "print(\"roc_auc in train: \", roc_auc_score(target_train.values.ravel(), train_results))\n",
    "print(\"roc_auc in test: \", roc_auc_score(target_test.values.ravel(), test_results))\n",
    "\n",
    "time_end = perf_counter()\n",
    "\n",
    "print(\"Time elepsed: \", round(time_end-time_start))\n",
    "\n",
    "#18.8s mean of runtime (10 runs)"
   ]
  }
 ],
 "metadata": {
  "kernelspec": {
   "display_name": "Python 3.10.6 ('Tensor')",
   "language": "python",
   "name": "python3"
  },
  "language_info": {
   "codemirror_mode": {
    "name": "ipython",
    "version": 3
   },
   "file_extension": ".py",
   "mimetype": "text/x-python",
   "name": "python",
   "nbconvert_exporter": "python",
   "pygments_lexer": "ipython3",
   "version": "3.10.6"
  },
  "orig_nbformat": 4,
  "vscode": {
   "interpreter": {
    "hash": "4c8f8bb4cd98e4a4ff5b48076e04c9143f54f24f3daf823607748b43789fc942"
   }
  }
 },
 "nbformat": 4,
 "nbformat_minor": 2
}
